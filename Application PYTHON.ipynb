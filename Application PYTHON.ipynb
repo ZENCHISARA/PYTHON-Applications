{
 "cells": [
  {
   "cell_type": "code",
   "execution_count": 1,
   "id": "faed685e",
   "metadata": {},
   "outputs": [],
   "source": [
    "#Question1\n",
    "#Écrivez un programme qui trouvera tous les nombres divisibles par 7 mais non multiples de 5, entre 2000 et 3200 \n",
    "#(les deux inclus). Les nombres obtenus doivent être imprimés dans une liste"
   ]
  },
  {
   "cell_type": "code",
   "execution_count": 4,
   "id": "7a9caf31",
   "metadata": {
    "scrolled": true
   },
   "outputs": [
    {
     "name": "stdout",
     "output_type": "stream",
     "text": [
      "[2002, 2009, 2016, 2023, 2037, 2044, 2051, 2058, 2072, 2079, 2086, 2093, 2107, 2114, 2121, 2128, 2142, 2149, 2156, 2163, 2177, 2184, 2191, 2198, 2212, 2219, 2226, 2233, 2247, 2254, 2261, 2268, 2282, 2289, 2296, 2303, 2317, 2324, 2331, 2338, 2352, 2359, 2366, 2373, 2387, 2394, 2401, 2408, 2422, 2429, 2436, 2443, 2457, 2464, 2471, 2478, 2492, 2499, 2506, 2513, 2527, 2534, 2541, 2548, 2562, 2569, 2576, 2583, 2597, 2604, 2611, 2618, 2632, 2639, 2646, 2653, 2667, 2674, 2681, 2688, 2702, 2709, 2716, 2723, 2737, 2744, 2751, 2758, 2772, 2779, 2786, 2793, 2807, 2814, 2821, 2828, 2842, 2849, 2856, 2863, 2877, 2884, 2891, 2898, 2912, 2919, 2926, 2933, 2947, 2954, 2961, 2968, 2982, 2989, 2996, 3003, 3017, 3024, 3031, 3038, 3052, 3059, 3066, 3073, 3087, 3094, 3101, 3108, 3122, 3129, 3136, 3143, 3157, 3164, 3171, 3178, 3192, 3199]\n"
     ]
    }
   ],
   "source": [
    "My_list=[]\n",
    "for x in range(1999,3201):\n",
    "    if x%7==0:\n",
    "        if x%5!=0:\n",
    "            My_list.append(x)    \n",
    "\n",
    "print(My_list)         \n",
    "            "
   ]
  },
  {
   "cell_type": "code",
   "execution_count": 3,
   "id": "b5349c17",
   "metadata": {},
   "outputs": [],
   "source": [
    "#Question2 \n",
    "# Écrire un programme capable de calculer la factorielle d'un nombre donné. \n",
    "#(Le factoriel de n est le produit de tous les entiers positifs inférieurs ou égaux à n.) "
   ]
  },
  {
   "cell_type": "code",
   "execution_count": 5,
   "id": "b0d2d433",
   "metadata": {},
   "outputs": [],
   "source": [
    "def fact(R):\n",
    "    x=1\n",
    "    for i in range(1,R+1):\n",
    "        x=x*i\n",
    "    print(\" the factorial of\",R,'is:',x) "
   ]
  },
  {
   "cell_type": "code",
   "execution_count": 6,
   "id": "50a67031",
   "metadata": {},
   "outputs": [
    {
     "name": "stdout",
     "output_type": "stream",
     "text": [
      " the factorial of 25 is: 15511210043330985984000000\n"
     ]
    }
   ],
   "source": [
    "fact(25)"
   ]
  },
  {
   "cell_type": "code",
   "execution_count": 7,
   "id": "3653556c",
   "metadata": {},
   "outputs": [],
   "source": [
    "#Question3\n",
    "#Avec un nombre entier n donné, écrivez un programme pour générer un dictionnaire qui contient (i, i*i)\n",
    "#tel qu'il soit un nombre entier compris entre 1 et n (tous deux inclus).\n",
    "#Ensuite, le programme devrait imprimer le dictionnaire."
   ]
  },
  {
   "cell_type": "code",
   "execution_count": 28,
   "id": "f0fc8dbd",
   "metadata": {},
   "outputs": [
    {
     "name": "stdout",
     "output_type": "stream",
     "text": [
      "Enter a number please 20\n"
     ]
    }
   ],
   "source": [
    "DIC={}\n",
    "n=input('Enter a number please ')\n"
   ]
  },
  {
   "cell_type": "code",
   "execution_count": 29,
   "id": "28376c94",
   "metadata": {},
   "outputs": [],
   "source": [
    "N=int(n)"
   ]
  },
  {
   "cell_type": "code",
   "execution_count": 30,
   "id": "bfd9515c",
   "metadata": {},
   "outputs": [
    {
     "name": "stdout",
     "output_type": "stream",
     "text": [
      "{1: 1, 2: 4, 3: 9, 4: 16, 5: 25, 6: 36, 7: 49, 8: 64, 9: 81, 10: 100, 11: 121, 12: 144, 13: 169, 14: 196, 15: 225, 16: 256, 17: 289, 18: 324, 19: 361, 20: 400}\n"
     ]
    }
   ],
   "source": [
    "for x in range (1,N+1):\n",
    "    DIC[x]=x*x\n",
    "print(DIC)    "
   ]
  },
  {
   "cell_type": "code",
   "execution_count": null,
   "id": "462021b5",
   "metadata": {},
   "outputs": [],
   "source": []
  },
  {
   "cell_type": "code",
   "execution_count": null,
   "id": "2a4130b4",
   "metadata": {},
   "outputs": [],
   "source": []
  },
  {
   "cell_type": "code",
   "execution_count": 13,
   "id": "f4e91944",
   "metadata": {},
   "outputs": [],
   "source": [
    "#Question 4\n",
    "#Étant donné une chaîne non vide et un entier n, renvoie une nouvelle chaîne où le caractère à l'index n a été supprimé.\n",
    "#La valeur de n sera un index valide d'un caractère dans la chaîne d'origine \n",
    "#(c'est-à-dire que n sera compris entre 0..len(str)-1 inclus). "
   ]
  },
  {
   "cell_type": "code",
   "execution_count": 25,
   "id": "17516133",
   "metadata": {},
   "outputs": [],
   "source": [
    "def Mcha(A,M):\n",
    "    new_str=''\n",
    "    if M<len(A)+1:\n",
    "        for i in range(len(A)):\n",
    "            if i !=M :\n",
    "                new_str = new_str + A[i]\n",
    "        print(new_str) \n",
    "    else:\n",
    "        print(M ,'est superieur à',len(A)+1)\n"
   ]
  },
  {
   "cell_type": "code",
   "execution_count": 26,
   "id": "2daf0d25",
   "metadata": {},
   "outputs": [
    {
     "name": "stdout",
     "output_type": "stream",
     "text": [
      "20 est superieur à 17\n"
     ]
    }
   ],
   "source": [
    "Mcha('Machine learning',20)"
   ]
  },
  {
   "cell_type": "code",
   "execution_count": 27,
   "id": "99dd3327",
   "metadata": {},
   "outputs": [
    {
     "name": "stdout",
     "output_type": "stream",
     "text": [
      "Machine larning\n"
     ]
    }
   ],
   "source": [
    "Mcha('Machine learning',9)"
   ]
  },
  {
   "cell_type": "code",
   "execution_count": null,
   "id": "841322d6",
   "metadata": {},
   "outputs": [],
   "source": []
  },
  {
   "cell_type": "code",
   "execution_count": null,
   "id": "bf7ffbbc",
   "metadata": {},
   "outputs": [],
   "source": []
  },
  {
   "cell_type": "code",
   "execution_count": 37,
   "id": "0ad91302",
   "metadata": {},
   "outputs": [],
   "source": [
    "#Question7\n",
    "#Écrivez un programme qui calcule et imprime la valeur selon la formule donnée : Q= Racine carrée de [(2 * C * D)/H] "
   ]
  },
  {
   "cell_type": "code",
   "execution_count": 6,
   "id": "c0f0965f",
   "metadata": {},
   "outputs": [],
   "source": [
    "import math "
   ]
  },
  {
   "cell_type": "code",
   "execution_count": 22,
   "id": "c7faabaf",
   "metadata": {},
   "outputs": [
    {
     "name": "stdout",
     "output_type": "stream",
     "text": [
      "Inserer une sequence de nombre séparer par une vigule 25,14,47,85,69,123,47,0\n"
     ]
    },
    {
     "data": {
      "text/plain": [
       "['25', '14', '47', '85', '69', '123', '47', '0']"
      ]
     },
     "execution_count": 22,
     "metadata": {},
     "output_type": "execute_result"
    }
   ],
   "source": [
    "s=input( \"Inserer une sequence de nombre séparer par une vigule \")\n",
    "L1=s.split(\",\")\n",
    "L1"
   ]
  },
  {
   "cell_type": "code",
   "execution_count": 23,
   "id": "c8893035",
   "metadata": {},
   "outputs": [
    {
     "name": "stdout",
     "output_type": "stream",
     "text": [
      "[25, 14, 47, 85, 69, 123, 47, 0]\n"
     ]
    }
   ],
   "source": [
    "L2=[]\n",
    "for x in L1:\n",
    "    x1=int(x)\n",
    "    L2.append(x1)\n",
    "print(L2)    "
   ]
  },
  {
   "cell_type": "code",
   "execution_count": 24,
   "id": "44af37c8",
   "metadata": {},
   "outputs": [
    {
     "name": "stdout",
     "output_type": "stream",
     "text": [
      "[9.128709291752768, 6.831300510639732, 12.516655570345725, 16.832508230603462, 15.165750888103101, 20.248456731316587, 12.516655570345725, 0.0]\n"
     ]
    }
   ],
   "source": [
    "\n",
    "L3=[]\n",
    "C=50\n",
    "H=30\n",
    "for D in L2:  \n",
    "    Q= math.sqrt((2*C*D)/H)\n",
    "    L3.append(Q)\n",
    "print(L3)    \n",
    "    "
   ]
  },
  {
   "cell_type": "code",
   "execution_count": null,
   "id": "06cdc8f1",
   "metadata": {},
   "outputs": [],
   "source": []
  },
  {
   "cell_type": "code",
   "execution_count": 8,
   "id": "f340b5b2",
   "metadata": {},
   "outputs": [],
   "source": [
    "#Question 6\n",
    "# Write a NumPy program to compute the covariance matrix of two given arrays. "
   ]
  },
  {
   "cell_type": "code",
   "execution_count": 16,
   "id": "b2b8ee39",
   "metadata": {},
   "outputs": [
    {
     "name": "stdout",
     "output_type": "stream",
     "text": [
      "\n",
      " Covariance matrix of two given arrays X and Y :\n",
      " [[10.33333333 -7.83333333]\n",
      " [-7.83333333  6.33333333]]\n"
     ]
    }
   ],
   "source": [
    "import numpy as np\n",
    "x = np.array([3, 8, 2])\n",
    "y = np.array([4, 1, 6])\n",
    "W=np.cov(x, y)\n",
    "print(\" Covariance matrix of two given arrays X and Y :\\n\",W)\n"
   ]
  },
  {
   "cell_type": "code",
   "execution_count": null,
   "id": "6af465e4",
   "metadata": {},
   "outputs": [],
   "source": []
  },
  {
   "cell_type": "code",
   "execution_count": 12,
   "id": "857b0794",
   "metadata": {},
   "outputs": [],
   "source": [
    "#Question 5 \n",
    "# Write a NumPy program to convert a NumPy array into a Python list structure."
   ]
  },
  {
   "cell_type": "code",
   "execution_count": 18,
   "id": "d1b7100f",
   "metadata": {},
   "outputs": [
    {
     "name": "stdout",
     "output_type": "stream",
     "text": [
      "NumPy array \n",
      " [[ 7  3]\n",
      " [23 21]\n",
      " [26  8]]\n",
      "list structure\n",
      " [[7, 3], [23, 21], [26, 8]]\n"
     ]
    }
   ],
   "source": [
    "Z= np.array([[7, 3], [23, 21],[26,8]])\n",
    "T= Z.tolist()\n",
    "print(\"NumPy array \\n\",Z)\n",
    "print(\"list structure\\n\",T)"
   ]
  },
  {
   "cell_type": "code",
   "execution_count": null,
   "id": "c2d0f3b5",
   "metadata": {},
   "outputs": [],
   "source": []
  }
 ],
 "metadata": {
  "kernelspec": {
   "display_name": "Python 3 (ipykernel)",
   "language": "python",
   "name": "python3"
  },
  "language_info": {
   "codemirror_mode": {
    "name": "ipython",
    "version": 3
   },
   "file_extension": ".py",
   "mimetype": "text/x-python",
   "name": "python",
   "nbconvert_exporter": "python",
   "pygments_lexer": "ipython3",
   "version": "3.9.7"
  }
 },
 "nbformat": 4,
 "nbformat_minor": 5
}
